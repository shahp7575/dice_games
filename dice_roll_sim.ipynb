{
 "cells": [
  {
   "cell_type": "code",
   "execution_count": 31,
   "metadata": {},
   "outputs": [
    {
     "name": "stdout",
     "output_type": "stream",
     "text": [
      "Ready to play(y/n)?: y\n",
      "Enter number of sides: 12\n",
      "Dice Rolling...\n",
      "Dice Rolled: 4\n",
      "Ready to play(y/n)?: n\n",
      "See you soon...\n"
     ]
    }
   ],
   "source": [
    "from time import sleep\n",
    "from random import randint\n",
    "\n",
    "play = True\n",
    "\n",
    "while(play):\n",
    "    game = play_game()\n",
    "    \n",
    "    if game.lower() == 'y':\n",
    "        ch = sides(game)\n",
    "        dice_roll(ch)\n",
    "    elif game.lower() == 'n':\n",
    "        print(\"See you soon...\")\n",
    "        play = False\n",
    "    else:\n",
    "        print(\"Invalid input\")\n",
    "\n",
    "def play_game():\n",
    "    user_play = input(\"Ready to play(y/n)?: \")\n",
    "    return user_play\n",
    "\n",
    "def sides(user_play):\n",
    "    choice = input(\"Enter number of sides: \")\n",
    "    print(\"Dice Rolling...\")\n",
    "    sleep(1)\n",
    "    return choice\n",
    "\n",
    "def dice_roll(choice):\n",
    "    dice_roll = randint(1, int(choice))\n",
    "    \n",
    "    print(\"Dice Rolled: %d\" %(dice_roll))"
   ]
  }
 ],
 "metadata": {
  "kernelspec": {
   "display_name": "Python 3",
   "language": "python",
   "name": "python3"
  },
  "language_info": {
   "codemirror_mode": {
    "name": "ipython",
    "version": 3
   },
   "file_extension": ".py",
   "mimetype": "text/x-python",
   "name": "python",
   "nbconvert_exporter": "python",
   "pygments_lexer": "ipython3",
   "version": "3.6.1"
  }
 },
 "nbformat": 4,
 "nbformat_minor": 2
}
